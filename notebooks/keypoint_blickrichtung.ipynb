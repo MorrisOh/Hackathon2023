{
 "cells": [
  {
   "cell_type": "code",
   "execution_count": 6,
   "metadata": {},
   "outputs": [],
   "source": [
    "import cv2 as cv\n",
    "import numpy as np \n",
    "from ultralytics import YOLO\n",
    "from PIL import Image\n",
    "import matplotlib.pyplot as plt"
   ]
  },
  {
   "cell_type": "code",
   "execution_count": null,
   "metadata": {},
   "outputs": [],
   "source": [
    "from pydantic import BaseModel\n",
    "\n",
    "class GetKeypoint(BaseModel):\n",
    "    NOSE:           int = 0\n",
    "    LEFT_EYE:       int = 1\n",
    "    RIGHT_EYE:      int = 2\n",
    "    LEFT_EAR:       int = 3\n",
    "    RIGHT_EAR:      int = 4\n",
    "    LEFT_SHOULDER:  int = 5\n",
    "    RIGHT_SHOULDER: int = 6\n",
    "    LEFT_ELBOW:     int = 7\n",
    "    RIGHT_ELBOW:    int = 8\n",
    "    LEFT_WRIST:     int = 9\n",
    "    RIGHT_WRIST:    int = 10\n",
    "    LEFT_HIP:       int = 11\n",
    "    RIGHT_HIP:      int = 12\n",
    "    LEFT_KNEE:      int = 13\n",
    "    RIGHT_KNEE:     int = 14\n",
    "    LEFT_ANKLE:     int = 15\n",
    "    RIGHT_ANKLE:    int = 16"
   ]
  },
  {
   "cell_type": "code",
   "execution_count": 47,
   "metadata": {},
   "outputs": [
    {
     "name": "stderr",
     "output_type": "stream",
     "text": [
      "Downloading https://github.com/ultralytics/assets/releases/download/v0.0.0/yolov8n-pose.pt to 'yolov8n-pose.pt'...\n",
      "100%|██████████| 6.51M/6.51M [00:02<00:00, 2.65MB/s]\n"
     ]
    }
   ],
   "source": [
    "model = YOLO('yolov8n-pose.pt')"
   ]
  },
  {
   "cell_type": "code",
   "execution_count": 52,
   "metadata": {},
   "outputs": [
    {
     "name": "stderr",
     "output_type": "stream",
     "text": [
      "\n"
     ]
    },
    {
     "name": "stderr",
     "output_type": "stream",
     "text": [
      "0: 640x640 1 person, 75.2ms\n",
      "Speed: 3.1ms preprocess, 75.2ms inference, 0.6ms postprocess per image at shape (1, 3, 640, 640)\n"
     ]
    }
   ],
   "source": [
    "image = Image.open(\"me.jpg\")\n",
    "results = model(image, conf=0.1, classes=[0], retina_masks=True)\n",
    "masks = results[0].masks\n",
    "result_keypoint = results[0].keypoints.xy.cpu().numpy()[0]"
   ]
  },
  {
   "cell_type": "code",
   "execution_count": 57,
   "metadata": {},
   "outputs": [
    {
     "name": "stdout",
     "output_type": "stream",
     "text": [
      "left eye [0.5314897298812866, 0.3282756805419922] right eye [0.4411400854587555, 0.34870645403862]\n"
     ]
    }
   ],
   "source": [
    "get_keypoint = GetKeypoint()\n",
    "left_eye_x, left_eye_y = result_keypoint[get_keypoint.LEFT_EYE]\n",
    "right_eye_x, right_eye_y = result_keypoint[get_keypoint.RIGHT_EYE]\n",
    "print(f\"left eye [{left_eye_x}, {left_eye_y}] right eye [{right_eye_x}, {right_eye_y}]\")"
   ]
  }
 ],
 "metadata": {
  "kernelspec": {
   "display_name": "Hack23",
   "language": "python",
   "name": "python3"
  },
  "language_info": {
   "codemirror_mode": {
    "name": "ipython",
    "version": 3
   },
   "file_extension": ".py",
   "mimetype": "text/x-python",
   "name": "python",
   "nbconvert_exporter": "python",
   "pygments_lexer": "ipython3",
   "version": "3.11.0"
  }
 },
 "nbformat": 4,
 "nbformat_minor": 2
}
