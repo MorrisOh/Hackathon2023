{
 "cells": [
  {
   "cell_type": "code",
   "execution_count": 2,
   "metadata": {},
   "outputs": [],
   "source": [
    "from ultralytics import YOLO\n",
    "import cv2\n",
    "from ultralytics.utils.plotting import Annotator  # ultralytics.yolo.utils.plotting is deprecated\n",
    "from PIL import Image\n",
    "import matplotlib.pyplot as plt\n",
    "import numpy as np\n",
    "import os\n",
    "from tqdm import tqdm"
   ]
  },
  {
   "cell_type": "code",
   "execution_count": 3,
   "metadata": {},
   "outputs": [],
   "source": [
    "model = YOLO('yolov8x.pt').to('mps')"
   ]
  },
  {
   "cell_type": "code",
   "execution_count": 5,
   "metadata": {},
   "outputs": [],
   "source": [
    "cap = cv2.VideoCapture(\"/Users/morris/Documents/Git/Hackathon2023/data/Screen Recording 2023-11-11 at 12.04.40.mov\")\n",
    "centers = [] # Array of center positions (x, y)\n",
    "image = None # Speichert das erste Bild vom Video\n",
    "while(cap.isOpened()):\n",
    "    ret, frame = cap.read()\n",
    "    frame = cv2.cvtColor(frame, cv2.COLOR_BGR2RGB)\n",
    "    if ret == False:\n",
    "        break\n",
    "\n",
    "    if image is None: # Save first frame\n",
    "        image = frame\n",
    "\n",
    "    results = model.predict(frame, verbose=False, classes=[0])[0].cpu()\n",
    "    for r in results:\n",
    "        boxes = r.boxes\n",
    "        for box in boxes:\n",
    "            if box.cls == 0 and box.conf > 0.3: # Class 0 for Person and Confidence Threshold\n",
    "                b = box.xyxy[0]  # get box coordinates in (top, left, bottom, right) format\n",
    "                x0, y0, x1, y1 = b\n",
    "                x, y, w, h = x0, y0, x1-x0, y1-y0\n",
    "                center = (int(x + w/2), int(y1))#, int(y + h/2)) # y1 für die Position der Füße\n",
    "                centers.append(center)\n",
    "\n",
    "cap.release()\n",
    "cv2.destroyAllWindows()"
   ]
  },
  {
   "cell_type": "code",
   "execution_count": 34,
   "metadata": {},
   "outputs": [
    {
     "name": "stderr",
     "output_type": "stream",
     "text": [
      "100%|██████████| 3459/3459 [00:01<00:00, 2598.41it/s]\n"
     ]
    }
   ],
   "source": [
    "densities = np.zeros((image.shape[0], image.shape[1]), dtype=np.float32)\n",
    "for center in tqdm(centers):\n",
    "    size = (30, 30)#(int(w/2 * 0.04), int(h/2 * 0.04))\n",
    "    angle = 0\n",
    "    startAngle = 0\n",
    "    endAngle = 360\n",
    "    density = np.zeros((image.shape[0], image.shape[1]), dtype=np.float32)\n",
    "    cv2.ellipse(density, center, size, angle, startAngle, endAngle, (1, 1), -1)\n",
    "    densities = densities + density\n",
    "densities = cv2.GaussianBlur(densities, (21, 21), 0)\n",
    "densities = cv2.normalize(densities, None, 0, 255, cv2.NORM_MINMAX, cv2.CV_8U)\n",
    "heatmap = cv2.applyColorMap(densities, cv2.COLORMAP_TURBO)\n",
    "heatmap = cv2.cvtColor(heatmap, cv2.COLOR_BGR2RGB)\n",
    "img = cv2.addWeighted(image, 0.5, heatmap, 0.5, 0)"
   ]
  },
  {
   "cell_type": "code",
   "execution_count": 1,
   "metadata": {},
   "outputs": [
    {
     "ename": "NameError",
     "evalue": "name 'np' is not defined",
     "output_type": "error",
     "traceback": [
      "\u001b[0;31m---------------------------------------------------------------------------\u001b[0m",
      "\u001b[0;31mNameError\u001b[0m                                 Traceback (most recent call last)",
      "\u001b[1;32m/Users/morris/Documents/Git/Hackathon2023/notebooks/local_heatmap_on_image.ipynb Cell 7\u001b[0m line \u001b[0;36m1\n\u001b[0;32m----> <a href='vscode-notebook-cell:/Users/morris/Documents/Git/Hackathon2023/notebooks/local_heatmap_on_image.ipynb#X12sZmlsZQ%3D%3D?line=0'>1</a>\u001b[0m \u001b[39mdef\u001b[39;00m \u001b[39mplot_densities\u001b[39m(img: np\u001b[39m.\u001b[39marray, densities: np\u001b[39m.\u001b[39marray) \u001b[39m-\u001b[39m\u001b[39m>\u001b[39m \u001b[39mNone\u001b[39;00m:\n\u001b[1;32m      <a href='vscode-notebook-cell:/Users/morris/Documents/Git/Hackathon2023/notebooks/local_heatmap_on_image.ipynb#X12sZmlsZQ%3D%3D?line=1'>2</a>\u001b[0m \u001b[39m    \u001b[39m\u001b[39m\"\"\" Plots the densities / heatmap as a two axis plot\u001b[39;00m\n\u001b[1;32m      <a href='vscode-notebook-cell:/Users/morris/Documents/Git/Hackathon2023/notebooks/local_heatmap_on_image.ipynb#X12sZmlsZQ%3D%3D?line=2'>3</a>\u001b[0m \u001b[39m    First axis shows the heatmap overlayed on the first input image;\u001b[39;00m\n\u001b[1;32m      <a href='vscode-notebook-cell:/Users/morris/Documents/Git/Hackathon2023/notebooks/local_heatmap_on_image.ipynb#X12sZmlsZQ%3D%3D?line=3'>4</a>\u001b[0m \u001b[39m    Second axis show the heatmap only.\u001b[39;00m\n\u001b[0;32m   (...)\u001b[0m\n\u001b[1;32m      <a href='vscode-notebook-cell:/Users/morris/Documents/Git/Hackathon2023/notebooks/local_heatmap_on_image.ipynb#X12sZmlsZQ%3D%3D?line=7'>8</a>\u001b[0m \u001b[39m    :return: None\u001b[39;00m\n\u001b[1;32m      <a href='vscode-notebook-cell:/Users/morris/Documents/Git/Hackathon2023/notebooks/local_heatmap_on_image.ipynb#X12sZmlsZQ%3D%3D?line=8'>9</a>\u001b[0m \u001b[39m    \"\"\"\u001b[39;00m\n\u001b[1;32m     <a href='vscode-notebook-cell:/Users/morris/Documents/Git/Hackathon2023/notebooks/local_heatmap_on_image.ipynb#X12sZmlsZQ%3D%3D?line=9'>10</a>\u001b[0m     fig, axes \u001b[39m=\u001b[39m plt\u001b[39m.\u001b[39msubplots(nrows\u001b[39m=\u001b[39m\u001b[39m1\u001b[39m, ncols\u001b[39m=\u001b[39m\u001b[39m2\u001b[39m, figsize\u001b[39m=\u001b[39m(\u001b[39m20\u001b[39m, \u001b[39m10\u001b[39m))\n",
      "\u001b[0;31mNameError\u001b[0m: name 'np' is not defined"
     ]
    }
   ],
   "source": [
    "def plot_densities(img: np.array, densities: np.array) -> None:\n",
    "    \"\"\" Plots the densities / heatmap as a two axis plot\n",
    "    First axis shows the heatmap overlayed on the first input image;\n",
    "    Second axis show the heatmap only.\n",
    "\n",
    "    :param img: np.array -- Image with heatmap overlay (Result of cv2.addWeighted(image, heatmap))\n",
    "    :param densities: np.array -- Image of heatmap \n",
    "    :return: None\n",
    "    \"\"\"\n",
    "    fig, axes = plt.subplots(nrows=1, ncols=2, figsize=(20, 10))\n",
    "    axes[0].imshow(img)\n",
    "    axes[0].set_title(f\"Heatmap Overlay (N_Frames = {len(densities)})\", size=16, fontweight=\"bold\")\n",
    "    axes[1].imshow(densities)\n",
    "    axes[1].set_title(f\"Heatmap (N_Frames = {len(densities)})\", size=16, fontweight=\"bold\")\n",
    "    fig.tight_layout()\n",
    "    plt.show()\n",
    "\n",
    "plot_densities(img, densities)"
   ]
  },
  {
   "cell_type": "code",
   "execution_count": null,
   "metadata": {},
   "outputs": [],
   "source": []
  }
 ],
 "metadata": {
  "kernelspec": {
   "display_name": "Hack23",
   "language": "python",
   "name": "python3"
  },
  "language_info": {
   "codemirror_mode": {
    "name": "ipython",
    "version": 3
   },
   "file_extension": ".py",
   "mimetype": "text/x-python",
   "name": "python",
   "nbconvert_exporter": "python",
   "pygments_lexer": "ipython3",
   "version": "3.11.0"
  }
 },
 "nbformat": 4,
 "nbformat_minor": 2
}
